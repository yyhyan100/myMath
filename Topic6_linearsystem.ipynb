{
 "cells": [
  {
   "cell_type": "code",
   "execution_count": 3,
   "metadata": {},
   "outputs": [
    {
     "name": "stdout",
     "output_type": "stream",
     "text": [
      "[0.06547619 0.10714286 0.125     ]\n"
     ]
    }
   ],
   "source": [
    "# Gaussian Elimination\n",
    "import numpy as np\n",
    "from myMath.linear_algebra import linear_system_solver\n",
    "linear_solver=linear_system_solver()\n",
    "A=np.array([[12,2,0],[1,8,2],[1,5,10]])\n",
    "b=np.array([1,2,3])\n",
    "x=linear_solver.gaussian_elimination(A,b)\n",
    "print(x)\n"
   ]
  },
  {
   "cell_type": "code",
   "execution_count": 2,
   "metadata": {},
   "outputs": [
    {
     "name": "stdout",
     "output_type": "stream",
     "text": [
      "[0.05096992 0.19417217 0.1978124 ]\n",
      "[0.99998341 1.99997208 2.99995478]\n"
     ]
    }
   ],
   "source": [
    "# Jacobi method:\n",
    "\n",
    "import numpy as np\n",
    "from myMath.linear_algebra import linear_system_solver\n",
    "linear_solver=linear_system_solver()\n",
    "A=np.array([[12,2,0],[1,8,2],[1,5,10]])\n",
    "b=np.array([1,2,3])\n",
    "x=linear_solver.jacobi(A,b)\n",
    "print(x)\n",
    "print(np.matmul(A,x))"
   ]
  },
  {
   "cell_type": "code",
   "execution_count": 1,
   "metadata": {},
   "outputs": [
    {
     "name": "stdout",
     "output_type": "stream",
     "text": [
      "[0.05097068 0.19417488 0.19781549]\n",
      "[0.99999793 2.00000071 3.        ]\n"
     ]
    }
   ],
   "source": [
    "# Gauss-Seidel method:\n",
    "\n",
    "import numpy as np\n",
    "from myMath.linear_algebra import linear_system_solver\n",
    "linear_solver=linear_system_solver()\n",
    "A=np.array([[12,2,0],[1,8,2],[1,5,10]])\n",
    "b=np.array([1,2,3])\n",
    "x=linear_solver.gauss_seidel(A,b)\n",
    "print(x)\n",
    "print(np.matmul(A,x))"
   ]
  },
  {
   "cell_type": "code",
   "execution_count": 1,
   "metadata": {},
   "outputs": [
    {
     "ename": "AttributeError",
     "evalue": "'linear_system_solver' object has no attribute 'LU'",
     "output_type": "error",
     "traceback": [
      "\u001b[1;31m---------------------------------------------------------------------------\u001b[0m",
      "\u001b[1;31mAttributeError\u001b[0m                            Traceback (most recent call last)",
      "Cell \u001b[1;32mIn[1], line 6\u001b[0m\n\u001b[0;32m      4\u001b[0m A\u001b[38;5;241m=\u001b[39mnp\u001b[38;5;241m.\u001b[39marray([[\u001b[38;5;241m3\u001b[39m,\u001b[38;5;241m2\u001b[39m,\u001b[38;5;241m1\u001b[39m],[\u001b[38;5;241m5\u001b[39m,\u001b[38;5;241m12\u001b[39m,\u001b[38;5;241m3\u001b[39m],[\u001b[38;5;241m1\u001b[39m,\u001b[38;5;241m1\u001b[39m,\u001b[38;5;241m9\u001b[39m]])\n\u001b[0;32m      5\u001b[0m linear_solver\u001b[38;5;241m=\u001b[39mlinear_system_solver()\n\u001b[1;32m----> 6\u001b[0m L,U\u001b[38;5;241m=\u001b[39m\u001b[43mlinear_solver\u001b[49m\u001b[38;5;241;43m.\u001b[39;49m\u001b[43mLU\u001b[49m(A)\n\u001b[0;32m      7\u001b[0m \u001b[38;5;28mprint\u001b[39m(L)\n\u001b[0;32m      8\u001b[0m \u001b[38;5;28mprint\u001b[39m(U)\n",
      "\u001b[1;31mAttributeError\u001b[0m: 'linear_system_solver' object has no attribute 'LU'"
     ]
    }
   ],
   "source": [
    "# LU decomposition\n",
    "import numpy as np\n",
    "from myMath.linear_algebra import linear_system_solver\n",
    "A=np.array([[3,2,1],[5,12,3],[1,1,9]])\n",
    "linear_solver=linear_system_solver()\n",
    "L,U=linear_solver.LU(A)\n",
    "print(L)\n",
    "print(U)\n"
   ]
  }
 ],
 "metadata": {
  "kernelspec": {
   "display_name": "Python 3",
   "language": "python",
   "name": "python3"
  },
  "language_info": {
   "codemirror_mode": {
    "name": "ipython",
    "version": 3
   },
   "file_extension": ".py",
   "mimetype": "text/x-python",
   "name": "python",
   "nbconvert_exporter": "python",
   "pygments_lexer": "ipython3",
   "version": "3.10.9"
  }
 },
 "nbformat": 4,
 "nbformat_minor": 2
}
