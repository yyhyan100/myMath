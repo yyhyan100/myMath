{
 "cells": [
  {
   "cell_type": "code",
   "execution_count": 3,
   "metadata": {},
   "outputs": [
    {
     "name": "stdout",
     "output_type": "stream",
     "text": [
      "[0.06547619 0.10714286 0.125     ]\n"
     ]
    }
   ],
   "source": [
    "# Gaussian Elimination\n",
    "import numpy as np\n",
    "from myMath.linear_algebra import linear_system_solver\n",
    "linear_solver=linear_system_solver()\n",
    "A=np.array([[12,2,0],[1,8,2],[1,5,10]])\n",
    "b=np.array([1,2,3])\n",
    "x=linear_solver.gaussian_elimination(A,b)\n",
    "print(x)\n"
   ]
  },
  {
   "cell_type": "code",
   "execution_count": 2,
   "metadata": {},
   "outputs": [
    {
     "name": "stdout",
     "output_type": "stream",
     "text": [
      "[0.05096992 0.19417217 0.1978124 ]\n",
      "[0.99998341 1.99997208 2.99995478]\n"
     ]
    }
   ],
   "source": [
    "# Jacobi method:\n",
    "\n",
    "import numpy as np\n",
    "from myMath.linear_algebra import linear_system_solver\n",
    "linear_solver=linear_system_solver()\n",
    "A=np.array([[12,2,0],[1,8,2],[1,5,10]])\n",
    "b=np.array([1,2,3])\n",
    "x=linear_solver.jacobi(A,b)\n",
    "print(x)\n",
    "print(np.matmul(A,x))"
   ]
  },
  {
   "cell_type": "code",
   "execution_count": 1,
   "metadata": {},
   "outputs": [
    {
     "name": "stdout",
     "output_type": "stream",
     "text": [
      "[0.05097068 0.19417488 0.19781549]\n",
      "[0.99999793 2.00000071 3.        ]\n"
     ]
    }
   ],
   "source": [
    "# Gauss-Seidel method:\n",
    "\n",
    "import numpy as np\n",
    "from myMath.linear_algebra import linear_system_solver\n",
    "linear_solver=linear_system_solver()\n",
    "A=np.array([[12,2,0],[1,8,2],[1,5,10]])\n",
    "b=np.array([1,2,3])\n",
    "x=linear_solver.gauss_seidel(A,b)\n",
    "print(x)\n",
    "print(np.matmul(A,x))"
   ]
  },
  {
   "cell_type": "code",
   "execution_count": 2,
   "metadata": {},
   "outputs": [
    {
     "name": "stdout",
     "output_type": "stream",
     "text": [
      "[[1.         0.         0.        ]\n",
      " [0.66666667 1.         0.        ]\n",
      " [0.33333333 0.         1.        ]]\n",
      "[[ 3.          0.          1.        ]\n",
      " [ 0.         10.          2.33333333]\n",
      " [ 0.          0.          7.66666667]]\n",
      "[[ 3.  0.  1.]\n",
      " [ 2. 10.  3.]\n",
      " [ 1.  0.  8.]]\n"
     ]
    }
   ],
   "source": [
    "# LU decomposition\n",
    "import numpy as np\n",
    "from myMath.linear_algebra import linear_system_solver\n",
    "A=np.array([[3,0,1],[2,10,3],[1,0,8]])\n",
    "linear_solver=linear_system_solver()\n",
    "L,U=linear_solver.LU(A)\n",
    "print(L)\n",
    "print(U)\n",
    "print(np.matmul(L,U))"
   ]
  },
  {
   "cell_type": "code",
   "execution_count": 2,
   "metadata": {},
   "outputs": [
    {
     "name": "stdout",
     "output_type": "stream",
     "text": [
      "[0.17391304 0.00173913 0.67826087]\n",
      "[1.2 2.4 5.6]\n"
     ]
    }
   ],
   "source": [
    "# solve a linear system using LU decomposition\n",
    "from myMath.linear_algebra import linear_system_solver\n",
    "import numpy as np\n",
    "A=np.array([[3,0,1],[2,10,3],[1,0,8]])\n",
    "b=np.array([1.2,2.4,5.6])\n",
    "linear_solver=linear_system_solver()\n",
    "x=linear_solver.LU_solver(A,b)\n",
    "print(x)\n",
    "print(np.matmul(A,x))"
   ]
  },
  {
   "cell_type": "code",
   "execution_count": 1,
   "metadata": {},
   "outputs": [
    {
     "name": "stdout",
     "output_type": "stream",
     "text": [
      "[[1.73205081 1.15470054 0.57735027]\n",
      " [0.         2.94392029 0.79259392]\n",
      " [0.         0.         2.6530099 ]]\n",
      "[[ 3.  2.  1.]\n",
      " [ 2. 10.  3.]\n",
      " [ 1.  3.  8.]]\n"
     ]
    }
   ],
   "source": [
    "# decompose a symmetric matrix using Cholesky LU \n",
    "from myMath.linear_algebra import linear_system_solver\n",
    "import numpy as np\n",
    "A=np.array([[3,2,1],[2,10,3],[1,3,8]])\n",
    "linear_solver=linear_system_solver()\n",
    "U=linear_solver.Cholesky(A)\n",
    "print(U)\n",
    "print(np.matmul(U.T,U))"
   ]
  },
  {
   "cell_type": "code",
   "execution_count": 1,
   "metadata": {},
   "outputs": [
    {
     "name": "stdout",
     "output_type": "stream",
     "text": [
      "[1. 2. 3.]\n"
     ]
    }
   ],
   "source": [
    "# chasing method\n",
    "from myMath.linear_algebra import linear_system_solver\n",
    "import numpy as np\n",
    "linear_solver=linear_system_solver()\n",
    "a=np.array([-1,-1])\n",
    "b=np.array([4,4,4])\n",
    "c=np.array([-1,-1])\n",
    "y=np.array([2,4,10])\n",
    "\n",
    "x=linear_solver.chasing(a,b,c,y)\n",
    "print(x)\n"
   ]
  }
 ],
 "metadata": {
  "kernelspec": {
   "display_name": "Python 3",
   "language": "python",
   "name": "python3"
  },
  "language_info": {
   "codemirror_mode": {
    "name": "ipython",
    "version": 3
   },
   "file_extension": ".py",
   "mimetype": "text/x-python",
   "name": "python",
   "nbconvert_exporter": "python",
   "pygments_lexer": "ipython3",
   "version": "3.10.9"
  }
 },
 "nbformat": 4,
 "nbformat_minor": 2
}
