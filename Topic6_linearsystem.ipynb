{
 "cells": [
  {
   "cell_type": "code",
   "execution_count": 3,
   "metadata": {},
   "outputs": [
    {
     "name": "stdout",
     "output_type": "stream",
     "text": [
      "[0.06547619 0.10714286 0.125     ]\n"
     ]
    }
   ],
   "source": [
    "import numpy as np\n",
    "from myMath.linear_algebra import linear_system_solver\n",
    "linear_solver=linear_system_solver()\n",
    "A=np.array([[12,2,0],[1,8,2],[1,5,10]])\n",
    "b=np.array([1,2,3])\n",
    "x=linear_solver.gaussian_elimination(A,b)\n",
    "print(x)\n"
   ]
  }
 ],
 "metadata": {
  "kernelspec": {
   "display_name": "Python 3",
   "language": "python",
   "name": "python3"
  },
  "language_info": {
   "codemirror_mode": {
    "name": "ipython",
    "version": 3
   },
   "file_extension": ".py",
   "mimetype": "text/x-python",
   "name": "python",
   "nbconvert_exporter": "python",
   "pygments_lexer": "ipython3",
   "version": "3.10.9"
  }
 },
 "nbformat": 4,
 "nbformat_minor": 2
}
