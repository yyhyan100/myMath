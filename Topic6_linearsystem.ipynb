{
 "cells": [
  {
   "cell_type": "code",
   "execution_count": 5,
   "metadata": {},
   "outputs": [
    {
     "name": "stdout",
     "output_type": "stream",
     "text": [
      "[0.06547619 0.10714286 0.125     ]\n",
      "[1.         1.17261905 1.85119048]\n",
      "[1 2 3]\n"
     ]
    }
   ],
   "source": [
    "# Gaussian Elimination\n",
    "import numpy as np\n",
    "from myMath.linear_algebra import linear_system_solver\n",
    "linear_solver=linear_system_solver()\n",
    "A=np.array([[12,2,0],[1,8,2],[1,5,10]])\n",
    "b=np.array([1,2,3])\n",
    "x=linear_solver.gaussian_elimination(A,b)\n",
    "print(x)\n",
    "print(np.dot(A,x))\n",
    "print(b)\n"
   ]
  },
  {
   "cell_type": "code",
   "execution_count": 2,
   "metadata": {},
   "outputs": [
    {
     "name": "stdout",
     "output_type": "stream",
     "text": [
      "[0.05096992 0.19417217 0.1978124 ]\n",
      "[0.99998341 1.99997208 2.99995478]\n"
     ]
    }
   ],
   "source": [
    "# Jacobi method:\n",
    "\n",
    "import numpy as np\n",
    "from myMath.linear_algebra import linear_system_solver\n",
    "linear_solver=linear_system_solver()\n",
    "A=np.array([[12,2,0],[1,8,2],[1,5,10]])\n",
    "b=np.array([1,2,3])\n",
    "x=linear_solver.jacobi(A,b)\n",
    "print(x)\n",
    "print(np.matmul(A,x))"
   ]
  },
  {
   "cell_type": "code",
   "execution_count": 1,
   "metadata": {},
   "outputs": [
    {
     "name": "stdout",
     "output_type": "stream",
     "text": [
      "[0.05097068 0.19417488 0.19781549]\n",
      "[0.99999793 2.00000071 3.        ]\n"
     ]
    }
   ],
   "source": [
    "# Gauss-Seidel method:\n",
    "\n",
    "import numpy as np\n",
    "from myMath.linear_algebra import linear_system_solver\n",
    "linear_solver=linear_system_solver()\n",
    "A=np.array([[12,2,0],[1,8,2],[1,5,10]])\n",
    "b=np.array([1,2,3])\n",
    "x=linear_solver.gauss_seidel(A,b)\n",
    "print(x)\n",
    "print(np.matmul(A,x))"
   ]
  },
  {
   "cell_type": "code",
   "execution_count": 1,
   "metadata": {},
   "outputs": [
    {
     "name": "stdout",
     "output_type": "stream",
     "text": [
      "[[ 1.  0.  0.]\n",
      " [ 2.  1.  0.]\n",
      " [-1.  3.  1.]]\n",
      "[[ 2.  1.  5.]\n",
      " [ 0. -1.  2.]\n",
      " [ 0.  0.  4.]]\n",
      "[[ 2.  1.  5.]\n",
      " [ 4.  1. 12.]\n",
      " [-2. -4.  5.]]\n",
      "[[ 2  1  5]\n",
      " [ 4  1 12]\n",
      " [-2 -4  5]]\n"
     ]
    }
   ],
   "source": [
    "# LU decomposition:\n",
    "import numpy as np\n",
    "A=np.array([[2,1,5],[4,1,12],[-2,-4,5]])\n",
    "L=np.zeros((3,3))\n",
    "U=np.zeros((3,3))\n",
    "for i in range(3):\n",
    "    L[i,i]=1\n",
    "U[0,:]=A[0,:] # first row of U is the first row of A\n",
    "L[1:,0]=A[1:,0]/A[0,0] # first column of L is the first column of A divided by the first element of U\n",
    "for k in range(1,3):\n",
    "    for j in range(k,3):\n",
    "        U[k,j]=A[k,j]-np.dot(L[k,:k],U[:k,j])\n",
    "    for i in range(k+1,3):\n",
    "        L[i,k]=(A[i,k]-np.dot(L[i,:k],U[:k,k]))/U[k,k]\n",
    "print(L)\n",
    "print(U)\n",
    "print(np.matmul(L,U))\n",
    "print(A)"
   ]
  },
  {
   "cell_type": "code",
   "execution_count": 3,
   "metadata": {},
   "outputs": [
    {
     "name": "stdout",
     "output_type": "stream",
     "text": [
      "[[1.         0.         0.        ]\n",
      " [0.66666667 1.         0.        ]\n",
      " [0.33333333 0.         1.        ]]\n",
      "[[ 3.          0.          1.        ]\n",
      " [ 0.         10.          2.33333333]\n",
      " [ 0.          0.          7.66666667]]\n",
      "[[ 3.  0.  1.]\n",
      " [ 2. 10.  3.]\n",
      " [ 1.  0.  8.]]\n",
      "[[ 3  0  1]\n",
      " [ 2 10  3]\n",
      " [ 1  0  8]]\n"
     ]
    }
   ],
   "source": [
    "# LU decomposition\n",
    "import numpy as np\n",
    "from myMath.linear_algebra import linear_system_solver\n",
    "A=np.array([[3,0,1],[2,10,3],[1,0,8]])\n",
    "linear_solver=linear_system_solver()\n",
    "L,U=linear_solver.LU(A)\n",
    "print(L)\n",
    "print(U)\n",
    "print(np.matmul(L,U))\n",
    "print(A)"
   ]
  },
  {
   "cell_type": "code",
   "execution_count": 4,
   "metadata": {},
   "outputs": [
    {
     "name": "stdout",
     "output_type": "stream",
     "text": [
      "[0.17391304 0.00173913 0.67826087]\n",
      "[1.2 2.4 5.6]\n",
      "[1.2 2.4 5.6]\n"
     ]
    }
   ],
   "source": [
    "# solve a linear system using LU decomposition\n",
    "from myMath.linear_algebra import linear_system_solver\n",
    "import numpy as np\n",
    "A=np.array([[3,0,1],[2,10,3],[1,0,8]])\n",
    "b=np.array([1.2,2.4,5.6])\n",
    "linear_solver=linear_system_solver()\n",
    "x=linear_solver.LU_solver(A,b)\n",
    "print(x)\n",
    "print(np.matmul(A,x))\n",
    "print(b)"
   ]
  },
  {
   "cell_type": "code",
   "execution_count": 10,
   "metadata": {},
   "outputs": [
    {
     "name": "stdout",
     "output_type": "stream",
     "text": [
      "[[1.73205081 0.         0.57735027]\n",
      " [0.         3.16227766 0.9486833 ]\n",
      " [0.         0.         2.60128174]]\n",
      "[[ 3.  0.  1.]\n",
      " [ 0. 10.  3.]\n",
      " [ 1.  3.  8.]]\n",
      "[[ 3  0  1]\n",
      " [ 2 10  3]\n",
      " [ 1  0  8]]\n"
     ]
    }
   ],
   "source": [
    "# decompose a symmetric matrix using Cholesky decomposition\n",
    "import numpy as np\n",
    "A=np.array([[3,0,1],[2,10,3],[1,0,8]])\n",
    "n=A.shape[0]\n",
    "U=np.zeros((n,n))\n",
    "for i in range(n):\n",
    "    U[i,i]=np.sqrt(A[i,i]-np.dot(U[:i,i],U[:i,i]))\n",
    "    for j in range(i+1,n):\n",
    "        U[i,j]=(A[i,j]-np.dot(U[:i,i],U[:i,j]))/U[i,i]\n",
    "\n",
    "print(U)\n",
    "print(np.matmul(U.T,U))\n",
    "print(A)"
   ]
  },
  {
   "cell_type": "code",
   "execution_count": 1,
   "metadata": {},
   "outputs": [
    {
     "name": "stdout",
     "output_type": "stream",
     "text": [
      "[[1.73205081 1.15470054 0.57735027]\n",
      " [0.         2.94392029 0.79259392]\n",
      " [0.         0.         2.6530099 ]]\n",
      "[[ 3.  2.  1.]\n",
      " [ 2. 10.  3.]\n",
      " [ 1.  3.  8.]]\n"
     ]
    }
   ],
   "source": [
    "# decompose a symmetric matrix using Cholesky LU \n",
    "from myMath.linear_algebra import linear_system_solver\n",
    "import numpy as np\n",
    "A=np.array([[3,2,1],[2,10,3],[1,3,8]])\n",
    "linear_solver=linear_system_solver()\n",
    "U=linear_solver.Cholesky(A)\n",
    "print(U)\n",
    "print(np.matmul(U.T,U))"
   ]
  },
  {
   "cell_type": "code",
   "execution_count": null,
   "metadata": {},
   "outputs": [
    {
     "name": "stdout",
     "output_type": "stream",
     "text": [
      "[[1.         0.         0.         0.         0.         0.        ]\n",
      " [0.33333333 1.         0.         0.         0.         0.        ]\n",
      " [0.         0.07594937 1.         0.         0.         0.        ]\n",
      " [0.         0.         0.05798874 1.         0.         0.        ]\n",
      " [0.         0.         0.         0.23917369 1.         0.        ]\n",
      " [0.         0.         0.         0.         0.40708395 1.        ]]\n",
      "[[ 3.         23.          0.          0.          0.          0.        ]\n",
      " [ 0.         26.33333333 43.          0.          0.          0.        ]\n",
      " [ 0.          0.         51.73417722 22.          0.          0.        ]\n",
      " [ 0.          0.          0.         16.72424761  3.          0.        ]\n",
      " [ 0.          0.          0.          0.         12.28247893 77.        ]\n",
      " [ 0.          0.          0.          0.          0.         24.6545361 ]]\n",
      "[[ 3. 23.  0.  0.  0.  0.]\n",
      " [ 1. 34. 43.  0.  0.  0.]\n",
      " [ 0.  2. 55. 22.  0.  0.]\n",
      " [ 0.  0.  3. 18.  3.  0.]\n",
      " [ 0.  0.  0.  4. 13. 77.]\n",
      " [ 0.  0.  0.  0.  5. 56.]]\n",
      "[[ 3. 23.  0.  0.  0.  0.]\n",
      " [ 1. 34. 43.  0.  0.  0.]\n",
      " [ 0.  2. 55. 22.  0.  0.]\n",
      " [ 0.  0.  3. 18.  3.  0.]\n",
      " [ 0.  0.  0.  4. 13. 77.]\n",
      " [ 0.  0.  0.  0.  5. 56.]]\n"
     ]
    }
   ],
   "source": [
    "# decompose a tridiagonal  matrix using LU decomposition\n",
    "import numpy as np\n",
    "A=np.array([[3,23,0,0,0,0],[1,34,43,0,0,0],[0,2,55,22,0,0],[0,0,3,18,3,0],[0,0,0,4,13,77],[0,0,0,0,5,56]],dtype=np.double)\n",
    "n=A.shape[0]\n",
    "L=np.zeros((n,n),dtype=np.double)\n",
    "U=np.zeros((n,n),dtype=np.double)\n",
    "for i in range(n-1):\n",
    "    U[i,i+1]=A[i,i+1]\n",
    "\n",
    "for i in range(n):\n",
    "    L[i,i]=1\n",
    "\n",
    "U[0,0]=A[0,0]\n",
    "\n",
    "for i in range(1,n):\n",
    "    L[i,i-1]=A[i,i-1]/U[i-1,i-1]\n",
    "    U[i,i]=A[i,i]-L[i,i-1]*U[i-1,i]\n",
    "\n",
    "print(L)\n",
    "print(U)\n",
    "print(np.matmul(L,U))\n",
    "print(A)\n",
    "    "
   ]
  },
  {
   "cell_type": "code",
   "execution_count": 2,
   "metadata": {},
   "outputs": [
    {
     "name": "stdout",
     "output_type": "stream",
     "text": [
      "[-1.4126902   0.2277422  -0.10071034  0.36743565 -0.77057022  0.17594377]\n",
      "[1. 2. 3. 4. 5. 6.]\n",
      "[1. 2. 3. 4. 5. 6.]\n"
     ]
    }
   ],
   "source": [
    "import numpy as np\n",
    "A=np.array([[3,23,0,0,0,0],[1,34,43,0,0,0],[0,2,55,22,0,0],[0,0,3,18,3,0],[0,0,0,4,13,77],[0,0,0,0,5,56]],dtype=np.double)\n",
    "y=np.array([1,2,3,4,5,6],dtype=np.double)\n",
    "n=A.shape[0]\n",
    "u=np.zeros((n,),dtype=np.double)\n",
    "v=np.zeros((n,),dtype=np.double)\n",
    "x=np.zeros((n,),dtype=np.double)\n",
    "u[0]=y[0]/A[0,0]\n",
    "v[0]=A[0,1]/A[0,0] \n",
    "\n",
    "for i in range(1,n-1):\n",
    "    u[i]=(y[i]-A[i,i-1]*u[i-1])/(A[i,i]-A[i,i-1]*v[i-1])\n",
    "    v[i]=A[i,i+1]/(A[i,i]-A[i,i-1]*v[i-1])\n",
    "\n",
    "u[-1]=(y[-1]-A[-1,-2]*u[-2])/(A[-1,-1]-A[-1,-2]*v[-2])\n",
    "\n",
    "x[-1]=u[-1]\n",
    "for i in range(n-2,-1,-1):\n",
    "    x[i]=u[i]-v[i]*x[i+1]\n",
    "\n",
    "print(x)\n",
    "print(np.matmul(A,x))\n",
    "print(y)\n"
   ]
  },
  {
   "cell_type": "code",
   "execution_count": 1,
   "metadata": {},
   "outputs": [
    {
     "name": "stdout",
     "output_type": "stream",
     "text": [
      "[1. 2. 3.]\n"
     ]
    }
   ],
   "source": [
    "# chasing method\n",
    "from myMath.linear_algebra import linear_system_solver\n",
    "import numpy as np\n",
    "linear_solver=linear_system_solver()\n",
    "a=np.array([-1,-1])\n",
    "b=np.array([4,4,4])\n",
    "c=np.array([-1,-1])\n",
    "y=np.array([2,4,10])\n",
    "\n",
    "x=linear_solver.chasing(a,b,c,y)\n",
    "print(x)\n"
   ]
  }
 ],
 "metadata": {
  "kernelspec": {
   "display_name": "Python 3",
   "language": "python",
   "name": "python3"
  },
  "language_info": {
   "codemirror_mode": {
    "name": "ipython",
    "version": 3
   },
   "file_extension": ".py",
   "mimetype": "text/x-python",
   "name": "python",
   "nbconvert_exporter": "python",
   "pygments_lexer": "ipython3",
   "version": "3.12.4"
  }
 },
 "nbformat": 4,
 "nbformat_minor": 2
}
