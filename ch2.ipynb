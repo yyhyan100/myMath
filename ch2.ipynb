{
 "cells": [
  {
   "cell_type": "code",
   "execution_count": 1,
   "metadata": {},
   "outputs": [
    {
     "name": "stdout",
     "output_type": "stream",
     "text": [
      "0.8601177793560606\n"
     ]
    }
   ],
   "source": [
    "import numpy as np\n",
    "from myMath.interpolation import intp_1d\n",
    "intp=intp_1d()\n",
    "\n",
    "x=np.array([1.0,2,3,5,6,8, 12.0])\n",
    "y=np.array([0.2,0.4,0.7,1.1,2.1,4.5,9.5])\n",
    "x_input=4.5\n",
    "\n",
    "print(intp.Lagrange(x,y,x_input))"
   ]
  },
  {
   "cell_type": "code",
   "execution_count": null,
   "metadata": {},
   "outputs": [],
   "source": []
  }
 ],
 "metadata": {
  "kernelspec": {
   "display_name": "Python 3",
   "language": "python",
   "name": "python3"
  },
  "language_info": {
   "codemirror_mode": {
    "name": "ipython",
    "version": 3
   },
   "file_extension": ".py",
   "mimetype": "text/x-python",
   "name": "python",
   "nbconvert_exporter": "python",
   "pygments_lexer": "ipython3",
   "version": "3.10.6"
  },
  "orig_nbformat": 4,
  "vscode": {
   "interpreter": {
    "hash": "916dbcbb3f70747c44a77c7bcd40155683ae19c65e1c03b4aa3499c5328201f1"
   }
  }
 },
 "nbformat": 4,
 "nbformat_minor": 2
}
