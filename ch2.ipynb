{
 "cells": [
  {
   "cell_type": "code",
   "execution_count": 1,
   "metadata": {},
   "outputs": [
    {
     "name": "stdout",
     "output_type": "stream",
     "text": [
      "0.8601177793560606\n",
      "[0.15110688 0.86011778 3.90518674]\n"
     ]
    }
   ],
   "source": [
    "import numpy as np\n",
    "from myMath.interpolation import intp_1d\n",
    "intp=intp_1d()\n",
    "\n",
    "x=np.array([1.0,2,3,5,6,8, 12.0])\n",
    "y=np.array([0.2,0.4,0.7,1.1,2.1,4.5,9.5])\n",
    "x_input=4.5\n",
    "\n",
    "print(intp.Lagrange(x,y,x_input))\n",
    "\n",
    "# for multple points interpolation, user vetorized function!\n",
    "vec_intp=np.vectorize(intp)\n",
    "x_input=np.array([1.2,4.5,7.3])\n",
    "print(intp.Lagrange(x,y,x_input))"
   ]
  },
  {
   "cell_type": "code",
   "execution_count": 1,
   "metadata": {},
   "outputs": [
    {
     "name": "stdout",
     "output_type": "stream",
     "text": [
      "0.8601177793560606\n"
     ]
    }
   ],
   "source": [
    "import numpy as np\n",
    "from myMath.interpolation import intp_1d\n",
    "intp=intp_1d()\n",
    "\n",
    "x=np.array([1.0,2,3,5,6,8, 12.0])\n",
    "y=np.array([0.2,0.4,0.7,1.1,2.1,4.5,9.5])\n",
    "x_input=4.5\n",
    "\n",
    "print(intp.NewtonDD(x,y,x_input))"
   ]
  },
  {
   "attachments": {},
   "cell_type": "markdown",
   "metadata": {},
   "source": [
    "### Hermite Interpolation"
   ]
  },
  {
   "cell_type": "code",
   "execution_count": 10,
   "metadata": {},
   "outputs": [
    {
     "name": "stdout",
     "output_type": "stream",
     "text": [
      "0.044313703703703355\n"
     ]
    }
   ],
   "source": [
    "# 2 pnts formula\n",
    "import numpy as np\n",
    "from myMath.interpolation import intp_1d\n",
    "intp=intp_1d()\n",
    "x=np.array([30,45,60])\n",
    "y=np.array([0.5,0.707107,0.866025])\n",
    "yp=np.array([0.866025,0.707107,0.5])\n",
    "x_input=40\n",
    "print(intp.Hermite_2pts(x[:2],y[:2],yp[:2],x_input))\n"
   ]
  },
  {
   "cell_type": "code",
   "execution_count": 9,
   "metadata": {},
   "outputs": [
    {
     "name": "stdout",
     "output_type": "stream",
     "text": [
      "-2.445046185185186\n"
     ]
    }
   ],
   "source": [
    "# 3 pnts formula\n",
    "import numpy as np\n",
    "from myMath.interpolation import intp_1d\n",
    "intp=intp_1d()\n",
    "x=np.array([30,45,60])\n",
    "y=np.array([0.5,0.707107,0.866025])\n",
    "yp=np.array([0.866025,0.707107,0.5])\n",
    "x_input=40\n",
    "print(intp.Hermite_3pts(x,y,yp[1],x_input))"
   ]
  },
  {
   "cell_type": "code",
   "execution_count": null,
   "metadata": {},
   "outputs": [],
   "source": []
  }
 ],
 "metadata": {
  "kernelspec": {
   "display_name": "Python 3",
   "language": "python",
   "name": "python3"
  },
  "language_info": {
   "codemirror_mode": {
    "name": "ipython",
    "version": 3
   },
   "file_extension": ".py",
   "mimetype": "text/x-python",
   "name": "python",
   "nbconvert_exporter": "python",
   "pygments_lexer": "ipython3",
   "version": "3.10.9"
  },
  "orig_nbformat": 4,
  "vscode": {
   "interpreter": {
    "hash": "916dbcbb3f70747c44a77c7bcd40155683ae19c65e1c03b4aa3499c5328201f1"
   }
  }
 },
 "nbformat": 4,
 "nbformat_minor": 2
}
