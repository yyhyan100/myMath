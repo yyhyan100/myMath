{
 "cells": [
  {
   "cell_type": "code",
   "execution_count": 1,
   "metadata": {},
   "outputs": [
    {
     "ename": "TypeError",
     "evalue": "'intp_1d' object is not callable",
     "output_type": "error",
     "traceback": [
      "\u001b[0;31m---------------------------------------------------------------------------\u001b[0m",
      "\u001b[0;31mTypeError\u001b[0m                                 Traceback (most recent call last)",
      "Cell \u001b[0;32mIn[1], line 9\u001b[0m\n\u001b[1;32m      6\u001b[0m y\u001b[39m=\u001b[39mnp\u001b[39m.\u001b[39marray([\u001b[39m0.2\u001b[39m,\u001b[39m0.4\u001b[39m,\u001b[39m0.7\u001b[39m,\u001b[39m1.1\u001b[39m,\u001b[39m2.1\u001b[39m,\u001b[39m4.5\u001b[39m,\u001b[39m9.5\u001b[39m])\n\u001b[1;32m      7\u001b[0m x_input\u001b[39m=\u001b[39m\u001b[39m4.5\u001b[39m\n\u001b[0;32m----> 9\u001b[0m \u001b[39mprint\u001b[39m(intp(x,y,x_input))\n",
      "\u001b[0;31mTypeError\u001b[0m: 'intp_1d' object is not callable"
     ]
    }
   ],
   "source": [
    "import numpy as np\n",
    "from myMath.interpolation import intp_1d\n",
    "intp=intp_1d()\n",
    "\n",
    "x=np.array([1.0,2,3,5,6,8, 12.0])\n",
    "y=np.array([0.2,0.4,0.7,1.1,2.1,4.5,9.5])\n",
    "x_input=4.5\n",
    "\n",
    "print(intp.Lagrange(x,y,x_input))"
   ]
  },
  {
   "cell_type": "code",
   "execution_count": null,
   "metadata": {},
   "outputs": [],
   "source": []
  }
 ],
 "metadata": {
  "kernelspec": {
   "display_name": "Python 3",
   "language": "python",
   "name": "python3"
  },
  "language_info": {
   "codemirror_mode": {
    "name": "ipython",
    "version": 3
   },
   "file_extension": ".py",
   "mimetype": "text/x-python",
   "name": "python",
   "nbconvert_exporter": "python",
   "pygments_lexer": "ipython3",
   "version": "3.10.6"
  },
  "orig_nbformat": 4,
  "vscode": {
   "interpreter": {
    "hash": "916dbcbb3f70747c44a77c7bcd40155683ae19c65e1c03b4aa3499c5328201f1"
   }
  }
 },
 "nbformat": 4,
 "nbformat_minor": 2
}
