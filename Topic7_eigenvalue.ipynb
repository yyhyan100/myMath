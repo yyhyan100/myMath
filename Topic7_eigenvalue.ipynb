{
 "cells": [
  {
   "cell_type": "code",
   "execution_count": 1,
   "metadata": {},
   "outputs": [
    {
     "name": "stdout",
     "output_type": "stream",
     "text": [
      "5.0\n",
      "[0.49026124 0.87157554]\n"
     ]
    }
   ],
   "source": [
    "# find the largest eignvalue using the power method\n",
    "\n",
    "import numpy as np \n",
    "from myMath.linear_algebra import eigen \n",
    "eig=eigen()\n",
    "A=np.array([[3,1],[2,4]])\n",
    "lmd, vect= eig.power(A)\n",
    "print(lmd)\n",
    "print(vect)"
   ]
  }
 ],
 "metadata": {
  "kernelspec": {
   "display_name": "Python 3",
   "language": "python",
   "name": "python3"
  },
  "language_info": {
   "codemirror_mode": {
    "name": "ipython",
    "version": 3
   },
   "file_extension": ".py",
   "mimetype": "text/x-python",
   "name": "python",
   "nbconvert_exporter": "python",
   "pygments_lexer": "ipython3",
   "version": "3.10.12"
  }
 },
 "nbformat": 4,
 "nbformat_minor": 2
}
