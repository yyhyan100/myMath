{
 "cells": [
  {
   "cell_type": "markdown",
   "metadata": {},
   "source": [
    "### Linear Regression (single var)"
   ]
  },
  {
   "cell_type": "code",
   "execution_count": null,
   "metadata": {},
   "outputs": [],
   "source": [
    "from myMath.regression import linear_regression_single\n",
    "import numpy as np\n",
    "lr=linear_regression_single()\n",
    "x=np.array([1,2,3,4])\n",
    "y=np.array([1.3,3.5,4.2,5.0])\n",
    "lr.train(x,y)\n",
    "lr.print_coef()"
   ]
  }
 ],
 "metadata": {
  "language_info": {
   "name": "python"
  }
 },
 "nbformat": 4,
 "nbformat_minor": 2
}
