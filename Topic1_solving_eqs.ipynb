{
 "cells": [
  {
   "attachments": {},
   "cell_type": "markdown",
   "metadata": {},
   "source": [
    "### Topic #1. Solving nonlinear equations\n",
    "\n",
    "### Bisection method"
   ]
  },
  {
   "cell_type": "markdown",
   "metadata": {},
   "source": [
    "let the midpoint $ x_m=(x_l+x_u)/2 $ to be the approximation\n"
   ]
  },
  {
   "cell_type": "code",
   "execution_count": 2,
   "metadata": {},
   "outputs": [
    {
     "name": "stdout",
     "output_type": "stream",
     "text": [
      "the solution of f(x)=0 is: 0.06238525390625001, and the error is approximately: 6.837286337698766e-08\n"
     ]
    }
   ],
   "source": [
    "def bisection(f,a,b,tol=0.00001):\n",
    "    ''' \n",
    "    f is the given function, a and b are the lower and upper bounds, tol is the tolerance\n",
    "    returns the approximation and also the error (evaluated as abs(f))\n",
    "    '''\n",
    "    err=tol+1\n",
    "    xl=a \n",
    "    xu=b\n",
    "    f_xl=f(xl) # fucntion value at x=xl\n",
    "    while err>=tol:\n",
    "        xm=(xl+xu)/2.0\n",
    "        f_xm=f(xm) # fucntion value at the midpoint\n",
    "        err=abs(f_xm)\n",
    "        if f_xl*f_xm < 0:\n",
    "            xu=xm \n",
    "        else:\n",
    "            xl=xm\n",
    "            f_xl=f_xm\n",
    "    return (xm, err)\n",
    "\n",
    "def f(x): # define the function, the corresponding eq is f(x)=0\n",
    "    return x**3-0.165* x**2 + 3.993e-4\n",
    "\n",
    "x,err=bisection(f,0,0.11,0.0000001)\n",
    "print(f\"the solution of f(x)=0 is: {x}, and the error is approximately: {err}\")"
   ]
  },
  {
   "cell_type": "code",
   "execution_count": 4,
   "metadata": {},
   "outputs": [
    {
     "name": "stdout",
     "output_type": "stream",
     "text": [
      "0.06237758278846742\n"
     ]
    }
   ],
   "source": [
    "from myMath import eqSolver\n",
    "es=eqSolver.solver_1d(0.0000000001)\n",
    "\n",
    "def f(x):\n",
    "    return x**3-0.165* x**2 + 3.993e-4\n",
    "\n",
    "print(es.bisection(f,0.0,0.11))\n",
    "\n"
   ]
  },
  {
   "cell_type": "markdown",
   "metadata": {},
   "source": [
    "### Newton's Method"
   ]
  },
  {
   "cell_type": "code",
   "execution_count": 2,
   "metadata": {},
   "outputs": [
    {
     "name": "stdout",
     "output_type": "stream",
     "text": [
      "0.06237595175618214\n"
     ]
    }
   ],
   "source": [
    "from myMath.eqSolver import solver_1d\n",
    "es=solver_1d()\n",
    "def f(x):\n",
    "    return x**3-0.165* x**2 + 3.993e-4\n",
    "def fp(x):\n",
    "    return 3*x**2-0.33* x \n",
    "\n",
    "print(es.newton(f,fp,0.1))"
   ]
  },
  {
   "attachments": {},
   "cell_type": "markdown",
   "metadata": {},
   "source": [
    "### Secant Method"
   ]
  },
  {
   "cell_type": "code",
   "execution_count": 3,
   "metadata": {},
   "outputs": [
    {
     "name": "stdout",
     "output_type": "stream",
     "text": [
      "0.062379859915900955\n"
     ]
    }
   ],
   "source": [
    "from myMath.eqSolver import solver_1d\n",
    "es=solver_1d(0.0000001)\n",
    "def f(x):\n",
    "    return x**3-0.165* x**2 + 3.993e-4\n",
    "\n",
    "print(es.secant(f,0.1,0.01))"
   ]
  },
  {
   "cell_type": "code",
   "execution_count": null,
   "metadata": {},
   "outputs": [],
   "source": []
  }
 ],
 "metadata": {
  "kernelspec": {
   "display_name": "Python 3",
   "language": "python",
   "name": "python3"
  },
  "language_info": {
   "codemirror_mode": {
    "name": "ipython",
    "version": 3
   },
   "file_extension": ".py",
   "mimetype": "text/x-python",
   "name": "python",
   "nbconvert_exporter": "python",
   "pygments_lexer": "ipython3",
   "version": "3.10.12"
  },
  "orig_nbformat": 4,
  "vscode": {
   "interpreter": {
    "hash": "916dbcbb3f70747c44a77c7bcd40155683ae19c65e1c03b4aa3499c5328201f1"
   }
  }
 },
 "nbformat": 4,
 "nbformat_minor": 2
}
