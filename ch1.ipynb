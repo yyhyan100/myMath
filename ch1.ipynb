{
 "cells": [
  {
   "cell_type": "code",
   "execution_count": 5,
   "metadata": {},
   "outputs": [
    {
     "ename": "AttributeError",
     "evalue": "module 'myMath.eqSolver' has no attribute 'solvers'",
     "output_type": "error",
     "traceback": [
      "\u001b[0;31m---------------------------------------------------------------------------\u001b[0m",
      "\u001b[0;31mAttributeError\u001b[0m                            Traceback (most recent call last)",
      "Cell \u001b[0;32mIn[5], line 2\u001b[0m\n\u001b[1;32m      1\u001b[0m \u001b[39mfrom\u001b[39;00m \u001b[39mmyMath\u001b[39;00m \u001b[39mimport\u001b[39;00m eqSolver\n\u001b[0;32m----> 2\u001b[0m es\u001b[39m=\u001b[39meqSolver\u001b[39m.\u001b[39;49msolvers(\u001b[39m0.0000000001\u001b[39m)\n\u001b[1;32m      4\u001b[0m \u001b[39mdef\u001b[39;00m \u001b[39mf\u001b[39m(x):\n\u001b[1;32m      5\u001b[0m     \u001b[39mreturn\u001b[39;00m x\u001b[39m*\u001b[39m\u001b[39m*\u001b[39m\u001b[39m3\u001b[39m\u001b[39m-\u001b[39m\u001b[39m0.165\u001b[39m\u001b[39m*\u001b[39m x\u001b[39m*\u001b[39m\u001b[39m*\u001b[39m\u001b[39m2\u001b[39m \u001b[39m+\u001b[39m \u001b[39m3.993e-4\u001b[39m\n",
      "\u001b[0;31mAttributeError\u001b[0m: module 'myMath.eqSolver' has no attribute 'solvers'"
     ]
    }
   ],
   "source": [
    "from myMath import eqSolver\n",
    "es=eqSolver.solvers(0.0000000001)\n",
    "\n",
    "def f(x):\n",
    "    return x**3-0.165* x**2 + 3.993e-4\n",
    "\n",
    "print(es.bisection(f,0.0,0.11))"
   ]
  },
  {
   "cell_type": "code",
   "execution_count": null,
   "metadata": {},
   "outputs": [],
   "source": []
  }
 ],
 "metadata": {
  "kernelspec": {
   "display_name": "Python 3",
   "language": "python",
   "name": "python3"
  },
  "language_info": {
   "codemirror_mode": {
    "name": "ipython",
    "version": 3
   },
   "file_extension": ".py",
   "mimetype": "text/x-python",
   "name": "python",
   "nbconvert_exporter": "python",
   "pygments_lexer": "ipython3",
   "version": "3.10.6"
  },
  "orig_nbformat": 4,
  "vscode": {
   "interpreter": {
    "hash": "916dbcbb3f70747c44a77c7bcd40155683ae19c65e1c03b4aa3499c5328201f1"
   }
  }
 },
 "nbformat": 4,
 "nbformat_minor": 2
}
