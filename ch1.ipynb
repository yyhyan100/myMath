{
 "cells": [
  {
   "attachments": {},
   "cell_type": "markdown",
   "metadata": {},
   "source": [
    "### Topic #1. Solving nonlinear equations\n",
    "\n",
    "### Bisection method"
   ]
  },
  {
   "cell_type": "code",
   "execution_count": 4,
   "metadata": {},
   "outputs": [
    {
     "name": "stdout",
     "output_type": "stream",
     "text": [
      "0.06237758278846742\n"
     ]
    }
   ],
   "source": [
    "from myMath import eqSolver\n",
    "es=eqSolver.solver_1d(0.0000000001)\n",
    "\n",
    "def f(x):\n",
    "    return x**3-0.165* x**2 + 3.993e-4\n",
    "\n",
    "print(es.bisection(f,0.0,0.11))\n",
    "\n"
   ]
  },
  {
   "cell_type": "markdown",
   "metadata": {},
   "source": [
    "### Newton's Method"
   ]
  },
  {
   "cell_type": "code",
   "execution_count": 2,
   "metadata": {},
   "outputs": [
    {
     "name": "stdout",
     "output_type": "stream",
     "text": [
      "0.06237595175618214\n"
     ]
    }
   ],
   "source": [
    "from myMath.eqSolver import solver_1d\n",
    "es=solver_1d()\n",
    "def f(x):\n",
    "    return x**3-0.165* x**2 + 3.993e-4\n",
    "def fp(x):\n",
    "    return 3*x**2-0.33* x \n",
    "\n",
    "print(es.newton(f,fp,0.1))"
   ]
  },
  {
   "attachments": {},
   "cell_type": "markdown",
   "metadata": {},
   "source": [
    "### Secant Method"
   ]
  },
  {
   "cell_type": "code",
   "execution_count": 3,
   "metadata": {},
   "outputs": [
    {
     "name": "stdout",
     "output_type": "stream",
     "text": [
      "0.062379859915900955\n"
     ]
    }
   ],
   "source": [
    "from myMath.eqSolver import solver_1d\n",
    "es=solver_1d(0.0000001)\n",
    "def f(x):\n",
    "    return x**3-0.165* x**2 + 3.993e-4\n",
    "\n",
    "print(es.secant(f,0.1,0.01))"
   ]
  },
  {
   "cell_type": "code",
   "execution_count": null,
   "metadata": {},
   "outputs": [],
   "source": []
  }
 ],
 "metadata": {
  "kernelspec": {
   "display_name": "Python 3",
   "language": "python",
   "name": "python3"
  },
  "language_info": {
   "codemirror_mode": {
    "name": "ipython",
    "version": 3
   },
   "file_extension": ".py",
   "mimetype": "text/x-python",
   "name": "python",
   "nbconvert_exporter": "python",
   "pygments_lexer": "ipython3",
   "version": "3.10.6 (main, Nov 14 2022, 16:10:14) [GCC 11.3.0]"
  },
  "orig_nbformat": 4,
  "vscode": {
   "interpreter": {
    "hash": "916dbcbb3f70747c44a77c7bcd40155683ae19c65e1c03b4aa3499c5328201f1"
   }
  }
 },
 "nbformat": 4,
 "nbformat_minor": 2
}
