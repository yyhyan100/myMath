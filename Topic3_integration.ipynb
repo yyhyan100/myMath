{
 "cells": [
  {
   "cell_type": "markdown",
   "metadata": {},
   "source": [
    "### Composite trapezoid rule"
   ]
  },
  {
   "cell_type": "code",
   "execution_count": 1,
   "metadata": {},
   "outputs": [
    {
     "ename": "TypeError",
     "evalue": "composite.trap() missing 1 required positional argument: 'n'",
     "output_type": "error",
     "traceback": [
      "\u001b[1;31m---------------------------------------------------------------------------\u001b[0m",
      "\u001b[1;31mTypeError\u001b[0m                                 Traceback (most recent call last)",
      "\u001b[1;32mc:\\Users\\vizu\\Desktop\\github\\myMath\\Topic3_integration.ipynb Cell 2\u001b[0m line \u001b[0;36m7\n\u001b[0;32m      <a href='vscode-notebook-cell:/c%3A/Users/vizu/Desktop/github/myMath/Topic3_integration.ipynb#W1sZmlsZQ%3D%3D?line=2'>3</a>\u001b[0m \u001b[39mfrom\u001b[39;00m \u001b[39mmath\u001b[39;00m \u001b[39mimport\u001b[39;00m \u001b[39m*\u001b[39m\n\u001b[0;32m      <a href='vscode-notebook-cell:/c%3A/Users/vizu/Desktop/github/myMath/Topic3_integration.ipynb#W1sZmlsZQ%3D%3D?line=4'>5</a>\u001b[0m f\u001b[39m=\u001b[39m\u001b[39mlambda\u001b[39;00m x: sin(x)\u001b[39m+\u001b[39mx\u001b[39m*\u001b[39m\u001b[39m*\u001b[39m\u001b[39m2\u001b[39m\n\u001b[1;32m----> <a href='vscode-notebook-cell:/c%3A/Users/vizu/Desktop/github/myMath/Topic3_integration.ipynb#W1sZmlsZQ%3D%3D?line=6'>7</a>\u001b[0m \u001b[39mprint\u001b[39m(composite\u001b[39m.\u001b[39;49mtrap(f,\u001b[39m0\u001b[39;49m,\u001b[39m10\u001b[39;49m,\u001b[39m10\u001b[39;49m)) \u001b[39m# find the integral of f from 0 to 10 with 10 subintervals\u001b[39;00m\n\u001b[0;32m      <a href='vscode-notebook-cell:/c%3A/Users/vizu/Desktop/github/myMath/Topic3_integration.ipynb#W1sZmlsZQ%3D%3D?line=7'>8</a>\u001b[0m \u001b[39mprint\u001b[39m(composite\u001b[39m.\u001b[39mtrap(f,\u001b[39m0\u001b[39m,\u001b[39m10\u001b[39m,\u001b[39m20\u001b[39m)) \u001b[39m# find the integral of f from 0 to 10 with 20 subintervals\u001b[39;00m\n\u001b[0;32m      <a href='vscode-notebook-cell:/c%3A/Users/vizu/Desktop/github/myMath/Topic3_integration.ipynb#W1sZmlsZQ%3D%3D?line=8'>9</a>\u001b[0m \u001b[39mprint\u001b[39m(composite\u001b[39m.\u001b[39mtrap(f,\u001b[39m0\u001b[39m,\u001b[39m10\u001b[39m,\u001b[39m100\u001b[39m)) \u001b[39m# find the integral of f from 0 to 10 with 100 subintervals\u001b[39;00m\n",
      "\u001b[1;31mTypeError\u001b[0m: composite.trap() missing 1 required positional argument: 'n'"
     ]
    }
   ],
   "source": [
    "import numpy as np\n",
    "from myMath.integration import composite\n",
    "from math import *\n",
    "\n",
    "f=lambda x: sin(x)+x**2\n",
    "composite=composite()\n",
    "print(composite.trap(f,0,10,10)) # find the integral of f from 0 to 10 with 10 subintervals\n",
    "print(composite.trap(f,0,10,20)) # find the integral of f from 0 to 10 with 20 subintervals\n",
    "print(composite.trap(f,0,10,100)) # find the integral of f from 0 to 10 with 100 subintervals\n",
    "print(composite.trap(f,0,10,1000)) # find the integral of f from 0 to 10 with 1000 subintervals"
   ]
  },
  {
   "cell_type": "code",
   "execution_count": null,
   "metadata": {},
   "outputs": [],
   "source": []
  }
 ],
 "metadata": {
  "kernelspec": {
   "display_name": "Python 3",
   "language": "python",
   "name": "python3"
  },
  "language_info": {
   "codemirror_mode": {
    "name": "ipython",
    "version": 3
   },
   "file_extension": ".py",
   "mimetype": "text/x-python",
   "name": "python",
   "nbconvert_exporter": "python",
   "pygments_lexer": "ipython3",
   "version": "3.10.9"
  },
  "orig_nbformat": 4,
  "vscode": {
   "interpreter": {
    "hash": "916dbcbb3f70747c44a77c7bcd40155683ae19c65e1c03b4aa3499c5328201f1"
   }
  }
 },
 "nbformat": 4,
 "nbformat_minor": 2
}
