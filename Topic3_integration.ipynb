{
 "cells": [
  {
   "cell_type": "markdown",
   "metadata": {},
   "source": [
    "### Composite trapezoidal rule"
   ]
  },
  {
   "cell_type": "code",
   "execution_count": 4,
   "metadata": {},
   "outputs": [
    {
     "name": "stdout",
     "output_type": "stream",
     "text": [
      "344.5138432269272\n",
      "336.68319892666267\n",
      "335.55059694103704\n",
      "335.1875387139816\n",
      "335.172556203455\n",
      "335.17240637582046\n"
     ]
    }
   ],
   "source": [
    "import numpy as np\n",
    "from myMath.integration import composite\n",
    "from math import *\n",
    "\n",
    "f=lambda x: sin(x)+x**2\n",
    "crule=composite()\n",
    "\n",
    "print(crule.trapezoid(f,0,10,4)) # find the integral of f from 0 to 10 with 4 subintervals\n",
    "print(crule.trapezoid(f,0,10,10)) # find the integral of f from 0 to 10 with 10 subintervals\n",
    "print(crule.trapezoid(f,0,10,20)) # find the integral of f from 0 to 10 with 20 subintervals\n",
    "print(crule.trapezoid(f,0,10,100)) # find the integral of f from 0 to 10 with 100 subintervals\n",
    "print(crule.trapezoid(f,0,10,1000)) # find the integral of f from 0 to 10 with 1000 subintervals\n",
    "print(crule.trapezoid(f,0,10,10000)) # find the integral of f from 0 to 10 with 10000 subintervals"
   ]
  },
  {
   "cell_type": "markdown",
   "metadata": {},
   "source": [
    "### Composite simpson's rule"
   ]
  },
  {
   "cell_type": "code",
   "execution_count": 1,
   "metadata": {},
   "outputs": [
    {
     "name": "stdout",
     "output_type": "stream",
     "text": [
      "336.40334901941594\n",
      "335.18398048588523\n",
      "335.17306294582846\n",
      "335.1724058853338\n",
      "335.172404862512\n",
      "335.1724048624098\n"
     ]
    }
   ],
   "source": [
    "import numpy as np\n",
    "from myMath.integration import composite\n",
    "from math import *\n",
    "\n",
    "f=lambda x: sin(x)+x**2\n",
    "crule=composite()\n",
    "\n",
    "print(crule.simpson(f,0,10,4)) # find the integral of f from 0 to 10 with 4 subintervals\n",
    "print(crule.simpson(f,0,10,10)) # find the integral of f from 0 to 10 with 10 subintervals\n",
    "print(crule.simpson(f,0,10,20)) # find the integral of f from 0 to 10 with 20 subintervals\n",
    "print(crule.simpson(f,0,10,100)) # find the integral of f from 0 to 10 with 100 subintervals\n",
    "print(crule.simpson(f,0,10,1000)) # find the integral of f from 0 to 10 with 1000 subintervals\n",
    "print(crule.simpson(f,0,10,10000)) # find the integral of f from 0 to 10 with 10000 subintervals"
   ]
  },
  {
   "cell_type": "markdown",
   "metadata": {},
   "source": [
    "### Romberg Integration"
   ]
  },
  {
   "cell_type": "code",
   "execution_count": 5,
   "metadata": {},
   "outputs": [
    {
     "name": "stdout",
     "output_type": "stream",
     "text": [
      "0.041666687499999994 0.04296875 0.0419921875 0.041748046875\n",
      "0.041666687499999994 0.041666666666666664 0.041666666666666664\n",
      "0.041666687499999994 0.041666666666666664\n"
     ]
    }
   ],
   "source": [
    "import numpy as np\n",
    "from myMath.integration import composite\n",
    "from math import *\n",
    "f=lambda x: x**2\n",
    "crule=composite()\n",
    "exact=crule.trapezoid(f,0,0.5,1000)\n",
    "R_11=crule.trapezoid(f,0,0.5,4)\n",
    "R_21=crule.trapezoid(f,0,0.5,8)\n",
    "R_31=crule.trapezoid(f,0,0.5,16)\n",
    "print(exact, R_11, R_21, R_31)\n",
    "R_22=(4*R_21-R_11)/3\n",
    "R_32=(4*R_31-R_21)/3\n",
    "print(exact, R_22, R_32)\n",
    "R_33=(4**2*R_32-R_22)/(4**2-1)\n",
    "print(exact, R_33)"
   ]
  },
  {
   "cell_type": "code",
   "execution_count": 8,
   "metadata": {},
   "outputs": [
    {
     "name": "stdout",
     "output_type": "stream",
     "text": [
      "344.5138432269272\n",
      "335.20289447200884\n",
      "335.1721157903976\n",
      "335.1724055713654\n",
      "335.1724048619724\n",
      "335.1724048661947\n"
     ]
    }
   ],
   "source": [
    "import numpy as np\n",
    "from myMath.integration import composite\n",
    "from math import *\n",
    "\n",
    "f=lambda x: sin(x)+x**2\n",
    "crule=composite()\n",
    "print(crule.trapezoid(f,0,10,4)) # trapzoid rule\n",
    "print(crule.romberg(f,0,10,4,2)) # R22\n",
    "print(crule.romberg(f,0,10,4,3)) # R33\n",
    "print(crule.romberg(f,0,10,4,4)) # R44\n",
    "print(crule.romberg(f,0,10,4,5)) # R55\n",
    "print(crule.trapezoid(f,0,10,200000)) # exact"
   ]
  }
 ],
 "metadata": {
  "kernelspec": {
   "display_name": "Python 3",
   "language": "python",
   "name": "python3"
  },
  "language_info": {
   "codemirror_mode": {
    "name": "ipython",
    "version": 3
   },
   "file_extension": ".py",
   "mimetype": "text/x-python",
   "name": "python",
   "nbconvert_exporter": "python",
   "pygments_lexer": "ipython3",
   "version": "3.12.4"
  },
  "orig_nbformat": 4,
  "vscode": {
   "interpreter": {
    "hash": "916dbcbb3f70747c44a77c7bcd40155683ae19c65e1c03b4aa3499c5328201f1"
   }
  }
 },
 "nbformat": 4,
 "nbformat_minor": 2
}
